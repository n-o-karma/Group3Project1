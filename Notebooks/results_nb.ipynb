{
 "cells": [
  {
   "cell_type": "markdown",
   "id": "e4352831",
   "metadata": {},
   "source": [
    "## A Look into Rental Prices:\n",
    "### ZORI Prices Spanning 2017 through 2023 by ZIP Code "
   ]
  },
  {
   "cell_type": "markdown",
   "id": "9a56dd65",
   "metadata": {},
   "source": [
    "<img src=\"Results/rentcrimetrend.png\" width=700>"
   ]
  },
  {
   "cell_type": "markdown",
   "id": "7da108ed",
   "metadata": {},
   "source": [
    "### Crime Incidents from 2016 to 2023 in the Top & Bottom ZIP Codes by ZORI"
   ]
  },
  {
   "cell_type": "markdown",
   "id": "101885ee",
   "metadata": {},
   "source": [
    "<img src=\"Results/renttop5crime.png\" width=500> <img src=\"Results/rentlow5crime.png\" width=500> <img src=\"Results/image_720.png\" width=500>"
   ]
  },
  {
   "cell_type": "markdown",
   "id": "3a7559c5",
   "metadata": {},
   "source": [
    "## ZORI Crime Map\n",
    "### Color: ZORI\n",
    "#### < 1,200 = Red, \n",
    "#### 1,200 - 1,349 = Orange, \n",
    "#### 1,350 - 1,499 = Gold, \n",
    "#### 1,500 - 1,649 = Yellow,\n",
    "#### 1,650 - 1,799 = Sky Blue, \n",
    "#### 1,800 - 1,949 = Dodger Blue, \n",
    "#### >= 1,950 = Blue\n",
    "\n",
    "### Size: Total Arrests\n",
    "#### Smaller points are ZIPs with less crime; larger points have more."
   ]
  },
  {
   "cell_type": "markdown",
   "id": "03ad0154",
   "metadata": {},
   "source": [
    "<img src=\"Results/zoricrimemap.png\" width=700>"
   ]
  },
  {
   "cell_type": "markdown",
   "id": "b6cfb07f",
   "metadata": {},
   "source": [
    "## A Look into Housing Prices:\n",
    "### ZHVI Prices Spanning 2017 through 2023 by ZIP Code "
   ]
  },
  {
   "cell_type": "markdown",
   "id": "958f23f4",
   "metadata": {},
   "source": [
    "<img src=\"Results/zhvi_vs_time.png\" width=700, height=700>"
   ]
  },
  {
   "cell_type": "markdown",
   "id": "d3181196",
   "metadata": {},
   "source": [
    "### ZHVI Prices vs Crime Arrests in 2017 by ZIP Code"
   ]
  },
  {
   "cell_type": "markdown",
   "id": "67a01d99",
   "metadata": {},
   "source": [
    "<img src=\"Results/2017ZHVIplot.png\" width=700>"
   ]
  },
  {
   "cell_type": "markdown",
   "id": "f1f003de",
   "metadata": {},
   "source": [
    "### ZHVI Prices vs Crime Arrests in 2023 by ZIP Code\n",
    "<img src=\"Results/2023ZHVIplot.png\" width=700>"
   ]
  },
  {
   "cell_type": "markdown",
   "id": "28fe8fe1",
   "metadata": {},
   "source": [
    "### ZHVI Prices vs Crime Arrests in 2023 by ZIP Code, Fitted and Scaled\n",
    "<img src=\"Results/arrests_vs_zhvi_2023.png\" width=700>"
   ]
  },
  {
   "cell_type": "markdown",
   "id": "13acadd9",
   "metadata": {},
   "source": [
    "## Time Lapse: ZHVI vs Crime Incidents from 2017 to 2023\n",
    "### Color: ZHVI\n",
    "#### < 70,000 = Dark Red, \n",
    "#### 70,000 - 124,999 = Brown, \n",
    "#### 125,000 - 199,999 = Greenish Brown, \n",
    "#### 200,000 - 299,999 = Forest Green, \n",
    "#### 300,000 - 399,999 = Bright Green, \n",
    "#### 400,000 - 499,999 = Kelly Green, \n",
    "#### > 500,000 = Pink\n",
    "\n",
    "### Size: Total Arrests\n",
    "#### Smaller points are ZIPs with less crime; larger points have more."
   ]
  },
  {
   "cell_type": "code",
   "execution_count": 5,
   "id": "56d4b556",
   "metadata": {},
   "outputs": [
    {
     "data": {
      "text/html": [
       "<video src=\"Results/animation.mp4\" controls  width=\"1000\"  height=\"500\">\n",
       "      Your browser does not support the <code>video</code> element.\n",
       "    </video>"
      ],
      "text/plain": [
       "<IPython.core.display.Video object>"
      ]
     },
     "execution_count": 5,
     "metadata": {},
     "output_type": "execute_result"
    }
   ],
   "source": [
    "from IPython.display import Video\n",
    "Video(\"Results/animation.mp4\", width=1000, height = 500) "
   ]
  },
  {
   "cell_type": "markdown",
   "id": "713687fb",
   "metadata": {},
   "source": [
    "## A Look into the Housing Market:\n",
    "### Volume of Houses for Sale by Quarter from 2018 through 2023"
   ]
  },
  {
   "cell_type": "markdown",
   "id": "2da5a406",
   "metadata": {},
   "source": [
    "<img src=\"Results/New_Listings_Over_5_Years.png\" width=700>"
   ]
  },
  {
   "cell_type": "code",
   "execution_count": null,
   "id": "9abd84a8",
   "metadata": {},
   "outputs": [],
   "source": []
  }
 ],
 "metadata": {
  "kernelspec": {
   "display_name": "Python 3 (ipykernel)",
   "language": "python",
   "name": "python3"
  },
  "language_info": {
   "codemirror_mode": {
    "name": "ipython",
    "version": 3
   },
   "file_extension": ".py",
   "mimetype": "text/x-python",
   "name": "python",
   "nbconvert_exporter": "python",
   "pygments_lexer": "ipython3",
   "version": "3.10.9"
  }
 },
 "nbformat": 4,
 "nbformat_minor": 5
}
