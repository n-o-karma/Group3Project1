{
 "cells": [
  {
   "cell_type": "markdown",
   "id": "8f6f67f7",
   "metadata": {},
   "source": [
    "# Should We Move or In ___ Philadelphia, Born and Raised? &#128173; &#128173; &#128173;\n",
    "## A look into housing prices and crime rates in a major metropolitan compared to smaller metrolpolitans  \n",
    "## Presentation By: Michael Cariello, Stephen Grantham, Jackie Ochuida, Nick O'Karma, & Michelle Wiley"
   ]
  },
  {
   "cell_type": "markdown",
   "id": "dde12693",
   "metadata": {},
   "source": [
    "<img src=\"Resources/state_map.jpg\" width=300>"
   ]
  },
  {
   "cell_type": "markdown",
   "id": "4c506403",
   "metadata": {},
   "source": [
    "### City Breakdown\n",
    "\n",
    "| CITY | POPULATION | CLASSIFICATION |\n",
    "|:-----|:----------:|:---------------|\n",
    "| Philadelphia, PA | 1.576 M | Major Metropolitan | \n",
    "| Washington, DC | 712,816 | Metropolitan | \n",
    "| Nashville, TN | 692,587 | Metropolitan | \n"
   ]
  },
  {
   "cell_type": "markdown",
   "id": "1511d4f8",
   "metadata": {},
   "source": [
    "### Data sources? Why chose them?\n",
    "#### ZHVI\n",
    "#### Difficulties with data? - sort by zip code? standardized data across multiple cities? "
   ]
  },
  {
   "cell_type": "markdown",
   "id": "f0522693",
   "metadata": {},
   "source": [
    "<div class=\"alert alert-success\">Data Timeframe: June 2020 through July 2023</div>"
   ]
  },
  {
   "cell_type": "markdown",
   "id": "75bd6930",
   "metadata": {},
   "source": [
    "### Describe clean up and analysis process?"
   ]
  },
  {
   "cell_type": "markdown",
   "id": "72bc6fbc",
   "metadata": {},
   "source": [
    "### Housing Prices?"
   ]
  },
  {
   "cell_type": "code",
   "execution_count": 1,
   "id": "2c771a24",
   "metadata": {},
   "outputs": [],
   "source": [
    "# Michael's plots"
   ]
  },
  {
   "cell_type": "markdown",
   "id": "b4361422",
   "metadata": {},
   "source": [
    "### Rental Prices?"
   ]
  },
  {
   "cell_type": "code",
   "execution_count": 2,
   "id": "abf4fc4c",
   "metadata": {},
   "outputs": [],
   "source": [
    "# Stephen's plots"
   ]
  },
  {
   "cell_type": "markdown",
   "id": "43297f29",
   "metadata": {},
   "source": [
    "### Crime data - types of crime over the years? bar graph, change over time, summary stats, statistical analysis?"
   ]
  },
  {
   "cell_type": "markdown",
   "id": "eb99e374",
   "metadata": {},
   "source": [
    "### Housing prices vs crime time lapse"
   ]
  },
  {
   "cell_type": "code",
   "execution_count": 3,
   "id": "bdcc3f97",
   "metadata": {},
   "outputs": [],
   "source": [
    "# Could we do a linear regression scatter plot?"
   ]
  },
  {
   "cell_type": "markdown",
   "id": "a12ece87",
   "metadata": {},
   "source": [
    "# ****I can't get this way to run\n",
    "<video controls src =\"example.mp4\" width=500/>"
   ]
  },
  {
   "cell_type": "code",
   "execution_count": 4,
   "id": "44f6e3ee",
   "metadata": {},
   "outputs": [
    {
     "data": {
      "text/html": [
       "<video src=\"Results/animation.mp4\" controls  width=\"750\" >\n",
       "      Your browser does not support the <code>video</code> element.\n",
       "    </video>"
      ],
      "text/plain": [
       "<IPython.core.display.Video object>"
      ]
     },
     "execution_count": 4,
     "metadata": {},
     "output_type": "execute_result"
    }
   ],
   "source": [
    "# ADD TO README https://stackoverflow.com/questions/18019477/how-can-i-play-a-local-video-in-my-ipython-notebook\n",
    "from IPython.display import Video\n",
    "Video(\"Results/animation.mp4\", width=750)\n",
    "# Details about time lapse - time frame, color and size reference, etc. \n"
   ]
  },
  {
   "cell_type": "markdown",
   "id": "06b887c4",
   "metadata": {},
   "source": [
    "### Change in volume of houses for-sale over time?"
   ]
  },
  {
   "cell_type": "code",
   "execution_count": 5,
   "id": "8080b1e5",
   "metadata": {},
   "outputs": [],
   "source": [
    "# Jackie's plot"
   ]
  },
  {
   "cell_type": "markdown",
   "id": "a2119400",
   "metadata": {},
   "source": [
    "### Future projections using Zillow calcluations "
   ]
  },
  {
   "cell_type": "code",
   "execution_count": 6,
   "id": "fae6c640",
   "metadata": {},
   "outputs": [],
   "source": [
    "# Michelle try to figure out"
   ]
  },
  {
   "cell_type": "markdown",
   "id": "7cd76df6",
   "metadata": {},
   "source": [
    "<div class=\"alert alert-success\">Analysis:</div>"
   ]
  },
  {
   "cell_type": "markdown",
   "id": "2ebc3360",
   "metadata": {},
   "source": [
    "* Point 1\n",
    "    * Proof\n",
    "* Point 2\n",
    "    * Proof "
   ]
  },
  {
   "cell_type": "markdown",
   "id": "028212f2",
   "metadata": {},
   "source": [
    "### Next steps - where do we go from here?\n",
    "#### Used to determine where to relocate\n",
    "#### Starting a business, opening new location - will employees want to move there?\n",
    "#### What else could this be used for?"
   ]
  }
 ],
 "metadata": {
  "kernelspec": {
   "display_name": "Python 3 (ipykernel)",
   "language": "python",
   "name": "python3"
  },
  "language_info": {
   "codemirror_mode": {
    "name": "ipython",
    "version": 3
   },
   "file_extension": ".py",
   "mimetype": "text/x-python",
   "name": "python",
   "nbconvert_exporter": "python",
   "pygments_lexer": "ipython3",
   "version": "3.11.4"
  }
 },
 "nbformat": 4,
 "nbformat_minor": 5
}
