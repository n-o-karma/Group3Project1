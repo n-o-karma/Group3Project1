{
 "cells": [
  {
   "cell_type": "markdown",
   "id": "8f6f67f7",
   "metadata": {},
   "source": [
    "# Should I Stay or Should I Go? &#128173; &#128173; &#128173;\n",
    "## A look into housing prices and crime rates in Philadelphia, PA  \n",
    "## Presentation By: Michael Cariello, Stephen Grantham, Jackie Ochuida, Nick O'Karma, & Michelle Wiley"
   ]
  },
  {
   "cell_type": "markdown",
   "id": "dde12693",
   "metadata": {},
   "source": [
    "<img src=\"Resources/state_map.jpg\" width=300>"
   ]
  },
  {
   "cell_type": "markdown",
   "id": "4c506403",
   "metadata": {},
   "source": [
    "### City Breakdown\n",
    "\n",
    "| CITY | POPULATION | CLASSIFICATION |\n",
    "|:-----|:----------:|:---------------|\n",
    "| Philadelphia, PA | 1.576 M | Major Metropolitan | \n"
   ]
  },
  {
   "cell_type": "markdown",
   "id": "1511d4f8",
   "metadata": {},
   "source": [
    "### Data sources? Why chose them?\n",
    "#### ZHVI\n",
    "#### Difficulties with data? - sort by zip code? standardized data across multiple cities? "
   ]
  },
  {
   "cell_type": "markdown",
   "id": "f0522693",
   "metadata": {},
   "source": [
    "<div class=\"alert alert-success\">Data Timeframe: January 2017 through June 2023</div>"
   ]
  },
  {
   "cell_type": "markdown",
   "id": "71d9d1f5",
   "metadata": {},
   "source": [
    "Crime data sourced from public Philadelphia totals from 2011-present for people arrested by local and state law enforcement agencies opendataphilly.org/"
   ]
  },
  {
   "cell_type": "markdown",
   "id": "72bc6fbc",
   "metadata": {},
   "source": [
    "### Housing Prices?"
   ]
  },
  {
   "cell_type": "code",
   "execution_count": 1,
   "id": "2c771a24",
   "metadata": {},
   "outputs": [],
   "source": [
    "# Michael's plots"
   ]
  },
  {
   "cell_type": "markdown",
   "id": "b4361422",
   "metadata": {},
   "source": [
    "### Rental Prices?"
   ]
  },
  {
   "cell_type": "code",
   "execution_count": 2,
   "id": "abf4fc4c",
   "metadata": {},
   "outputs": [],
   "source": [
    "# Stephen's plots"
   ]
  },
  {
   "cell_type": "markdown",
   "id": "43297f29",
   "metadata": {},
   "source": [
    "### Crime data - types of crime over the years? bar graph, change over time, summary stats, statistical analysis?"
   ]
  },
  {
   "cell_type": "markdown",
   "id": "eb99e374",
   "metadata": {},
   "source": [
    "### Housing prices vs crime time lapse"
   ]
  },
  {
   "cell_type": "markdown",
   "id": "9a4e5763",
   "metadata": {},
   "source": [
    "<img src=\"Results/arrests_vs_zhvi_2023.png\" width=750>"
   ]
  },
  {

   "cell_type": "markdown",
   "id": "c8af5bde",
   "metadata": {},
   "source": [
    "<img src=\"Results/zhvi_vs_time.png\" width=1000000, height=100000>"
   ]
  },
  {
   "cell_type": "code",
   "execution_count": 3,
   "id": "44f6e3ee",
   "metadata": {
    "scrolled": false
   },
   "outputs": [
    {
     "data": {
      "text/html": [
       "<video src=\"Results/animation.mp4\" controls  width=\"1000\"  height=\"500\">\n",
       "      Your browser does not support the <code>video</code> element.\n",
       "    </video>"
      ],
      "text/plain": [
       "<IPython.core.display.Video object>"
      ]
     },
     "execution_count": 3,
     "metadata": {},
     "output_type": "execute_result"
    }
   ],
   "source": [
    "# ADD TO README https://stackoverflow.com/questions/18019477/how-can-i-play-a-local-video-in-my-ipython-notebook\n",
    "from IPython.display import Video\n",
    "Video(\"Results/animation.mp4\", width=1000, height = 500)\n",
    "# Details about time lapse - time frame, color and size reference, etc. "
   ]
  },
  {
   "cell_type": "code",
   "execution_count": null,
   "id": "06b13620",
   "metadata": {},
   "outputs": [],
   "source": []
  },
  {
   "cell_type": "markdown",
   "id": "06b887c4",
   "metadata": {},
   "source": [
    "### Change in volume of houses for-sale over time?"
   ]
  },
  {
   "cell_type": "code",
   "execution_count": 4,
   "id": "8080b1e5",
   "metadata": {},
   "outputs": [],
   "source": [
    "# Jackie's plot"
   ]
  },
  {
   "cell_type": "markdown",

   "id": "76f98f4d",
   "id": "a2119400",
   "metadata": {},
   "source": [
    "### Future projections using Zillow calcluations "
   ]
  },
  {
   "cell_type": "code",
   "execution_count": 5,
   "id": "fae6c640",

   "metadata": {},
   "source": [
    "### t-test"
   ]
  },
  {
   "cell_type": "markdown",
   "id": "7cd76df6",
   "metadata": {},
   "source": [
    "<div class=\"alert alert-success\">Analysis:</div>"
   ]
  },
  {
   "cell_type": "markdown",
   "id": "2ebc3360",
   "metadata": {},
   "source": [
    "* Point 1\n",
    "    * Proof\n",
    "* Point 2\n",
    "    * Proof "
   ]
  },
  {
   "cell_type": "markdown",
   "id": "028212f2",
   "metadata": {},
   "source": [
    "### Next steps - where do we go from here?\n",
    "#### Used to determine where to relocate\n",
    "#### Starting a business, opening new location - will employees want to move there?\n",
    "#### What else could this be used for?"
   ]
  },
  {
   "cell_type": "code",
   "execution_count": null,
   "id": "bb6c6c82",
   "metadata": {},
   "outputs": [],
   "source": []
  }
 ],
 "metadata": {
  "kernelspec": {
   "display_name": "Python 3 (ipykernel)",
   "language": "python",
   "name": "python3"
  },
  "language_info": {
   "codemirror_mode": {
    "name": "ipython",
    "version": 3
   },
   "file_extension": ".py",
   "mimetype": "text/x-python",
   "name": "python",
   "nbconvert_exporter": "python",
   "pygments_lexer": "ipython3",
   "version": "3.10.9"
  }
 },
 "nbformat": 4,
 "nbformat_minor": 5
}
