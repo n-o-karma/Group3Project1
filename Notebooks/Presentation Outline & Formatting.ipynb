{
 "cells": [
  {
   "cell_type": "markdown",
   "id": "bc8a29d0",
   "metadata": {},
   "source": [
    "# Should I Stay or Should I Go? &#128173; &#128173; &#128173;\n",
    "## A look into housing and rental prices and the crime rates in Philadelphia, PA  \n",
    "## Presented By: Michael Cariello, Stephen Grantham, Jackie Ochuida, Nick O'Karma, & Michelle Wiley"
   ]
  },
  {
   "cell_type": "markdown",
   "id": "dde12693",
   "metadata": {},
   "source": [
    "<img src=\"Resources/philly_photo.jpg\" width=750>"
   ]
  },
  {
   "cell_type": "markdown",
   "id": "4c506403",
   "metadata": {},
   "source": [
    "## City Breakdown \n",
    "\n",
    "| CITY | POPULATION | CLASSIFICATION |\n",
    "|:-----|:----------:|:---------------|\n",
    "| Philadelphia, PA | 1.576 M | Major Metropolitan | \n"
   ]
  },
  {
   "cell_type": "markdown",
   "id": "1e73637f",
   "metadata": {},
   "source": [
    "## Project Scope\n",
    "1. Have housing prices increased or decreased over the last 7 years?\n",
    "2. Have rental prices increased or decreased over the last 7 years?\n",
    "3. Have crime rates increased or decreased over the last 7 years?\n",
    "4. Is there a relationship between the change housing costs and the change in crime rate?\n",
    "5. Has there been a change in the quantity of houses on the market? \n",
    "6. When is the best time of year to house hunt based on availability?"
   ]
  },
  {
   "cell_type": "markdown",
   "id": "6274f47d",
   "metadata": {},
   "source": [
    "## Python Dependencies Used in Clean-Up and Analysis"
   ]
  },
  {
   "cell_type": "code",
   "execution_count": 20,
   "id": "77fb8848",
   "metadata": {},
   "outputs": [],
   "source": [
    "import matplotlib.pyplot as plt\n",
    "import pandas as pd\n",
    "import hvplot.pandas\n",
    "import numpy as np\n",
    "import json\n",
    "import requests\n",
    "import time\n",
    "import scipy.stats as st\n",
    "from pprint import pprint\n",
    "from pathlib import Path\n",
    "import os\n",
    "import csv"
   ]
  },
  {
   "cell_type": "markdown",
   "id": "d77d4d51",
   "metadata": {},
   "source": [
    "## Data Sources and Accessing Them\n",
    "* Zillow Observed Rent Index (ZORI) \n",
    "    * \"A smoothed measure of the typical observed market rate rent...\"\n",
    "    * Data accessed via CSV File made available on https://www.zillow.com/research/data/"
   ]
  },
  {
   "cell_type": "code",
   "execution_count": 21,
   "id": "69933275",
   "metadata": {},
   "outputs": [],
   "source": [
    "#Accessing the data for 6,884 ZIP Codes across the country over 102 Months from 2015-Now\n",
    "\n",
    "zoripath = os.path.join('Resources', 'zipzori.csv')\n",
    "with open(zoripath) as csvfile:\n",
    "    zori = csv.reader(csvfile, delimiter=',')\n",
    "    zori_df = pd.DataFrame(zori)"
   ]
  },
  {
   "cell_type": "markdown",
   "id": "4a778693",
   "metadata": {},
   "source": [
    "* Zillow Home Value Index (ZHVI) - Single Family Residences and Condos sorted by ZIP Code\n",
    "    * \"A measure of the typical home value and market changes...\"\n",
    "    * Data accessed via CSV File made available on https://www.zillow.com/research/data/"
   ]
  },
  {
   "cell_type": "code",
   "execution_count": 22,
   "id": "6618f4ac",
   "metadata": {},
   "outputs": [],
   "source": [
    "#Accessing the data for 27,006 ZIP Codes across the country over 281 Months from 2000-Now\n",
    "\n",
    "zhvipath = os.path.join('Resources', 'zillowzipcodedata.csv')\n",
    "with open(zhvipath) as csvfile:\n",
    "    zhvi = csv.reader(csvfile, delimiter=',')\n",
    "    zhvi_df = pd.DataFrame(zhvi)"
   ]
  },
  {
   "cell_type": "markdown",
   "id": "1511d4f8",
   "metadata": {},
   "source": [
    "* OpenDataPhilly.org - Crime Incidents\n",
    "    * Arrests by local and state law enforcement agencies\n",
    "    * We look at arrests by ZIP Code here"
   ]
  },
  {
   "cell_type": "code",
   "execution_count": 23,
   "id": "c34b10d6",
   "metadata": {},
   "outputs": [],
   "source": [
    "#Accessing the data for 377,380 arrests in Philadelphia from 2011-Now via public API\n",
    "\n",
    "philly_crime_url = 'https://phl.carto.com/api/v2/sql?q=SELECT * FROM arrests_zipcode'\n",
    "philly_crime = requests.get(philly_crime_url).json()\n",
    "philly_crime = pd.DataFrame(philly_crime['rows'])"
   ]
  },
  {
   "cell_type": "markdown",
   "id": "f0522693",
   "metadata": {},
   "source": [
    "## Data Time Frames\n",
    "<div class=\"alert alert-success\">Zillow Data: January 2016 through July 2023</div>"
   ]
  },
  {
   "cell_type": "markdown",
   "id": "71d9d1f5",
   "metadata": {},
   "source": [
    "<div class=\"alert alert-success\">Crime Data: January 2011 through July 2023</div>\n"
   ]
  },
  {
   "cell_type": "markdown",
   "id": "b4361422",
   "metadata": {},
   "source": [
    "## A Look into Rental Prices:\n",
    "## ZORI Prices Spanning 2017 through 2023 by ZIP Code "
   ]
  },
  {
   "cell_type": "markdown",
   "id": "c2a485ae",
   "metadata": {},
   "source": [
    "<img src=\"Results/rentcrimetrend.png\" width=700>"
   ]
  },
  {
   "cell_type": "markdown",
   "id": "43297f29",
   "metadata": {},
   "source": [
    "## Crime Incidents from 2016 to 2023 in the Top & Bottom ZIP Codes by ZORI"
   ]
  },
  {
   "cell_type": "markdown",
   "id": "60d8b3f0",
   "metadata": {},
   "source": [
    "<img src=\"Results/renttop5crime.png\" width=500> <img src=\"Results/rentlow5crime.png\" width=500>"
   ]
  },
  {
   "cell_type": "markdown",
   "id": "1272c3df",
   "metadata": {},
   "source": [
    "## ZORI Crime Map\n",
    "### Color: ZORI\n",
    "#### < 1,200 = Red, 1,200 - 1,349 = Orange, 1,350 - 1,499 = Gold, 1,500 - 1,649 = Yellow, 1,650 - 1,799 = Sky Blue, 1,800 - 1,949 = Dodger Blue, >= 1,950 = Bue\n",
    "\n",
    "### Size: Crime Incident Count"
   ]
  },
  {
   "cell_type": "markdown",
   "id": "752aa09c",
   "metadata": {},
   "source": [
    "<img src=\"Results/zoricrimemap.png\" width=700>"
   ]
  },
  {
   "cell_type": "markdown",
   "id": "016e60c1",
   "metadata": {},
   "source": [
    "<div class=\"alert alert-success\">***TAKE AWAY FROM RENTAL DATA</div> "
   ]
  },
  {
   "cell_type": "markdown",
   "id": "19271158",
   "metadata": {},
   "source": [
    "## A Look into Housing Prices:\n",
    "## ZHVI Prices Spanning 2017 through 2023 by ZIP Code "
   ]
  },
  {
   "cell_type": "markdown",
   "id": "c8af5bde",
   "metadata": {},
   "source": [
    "<img src=\"Results/zhvi_vs_time.png\" width=700, height=700>"
   ]
  },
  {
   "cell_type": "markdown",
   "id": "72bc6fbc",
   "metadata": {},
   "source": [
    "## ZHVI Prices vs Crime Arrests in 2017 by ZIP Code"
   ]
  },
  {
   "cell_type": "markdown",
   "id": "5ae745a5",
   "metadata": {},
   "source": [
    "<img src=\"Results/2017ZHVIplot.png\" width=700>"
   ]
  },
  {
   "cell_type": "markdown",
   "id": "55eb9216",
   "metadata": {},
   "source": [
    "## ZHVI Prices vs Crime Arrests in 2023 by ZIP Code"
   ]
  },
  {
   "cell_type": "markdown",
   "id": "d3aaae82",
   "metadata": {},
   "source": [
    "<img src=\"Results/2023ZHVIplot.png\" width=700>"
   ]
  },
  {
   "cell_type": "markdown",
   "id": "9a4e5763",
   "metadata": {},
   "source": [
    "<img src=\"Results/arrests_vs_zhvi_2023.png\" width=700>"
   ]
  },
  {
   "cell_type": "markdown",
   "id": "54dbc9bc",
   "metadata": {},
   "source": [
    "<div class=\"alert alert-success\">***SUMMARY</div>"
   ]
  },
  {
   "cell_type": "markdown",
   "id": "eb99e374",
   "metadata": {},
   "source": [
    "### Time Lapse: ZHVI vs Crime Incidents from 2017 to 2023\n",
    "### Color: ZHVI\n",
    "#### < 70,000 = Dark Red, 70,000 - 124,999 = Brown, 125,000 - 199,999 = Greenish Brown, 200,000 - 299,999 = Forest Green, 300,000 - 399,999 = Bright Green, 400,000 - 499,999 = Kelly Green, > 500,000 = Pink\n",
    "\n",
    "### Size: Crime Incident Count"
   ]
  },
  {
   "cell_type": "code",
   "execution_count": 2,
   "id": "44f6e3ee",
   "metadata": {
    "scrolled": false
   },
   "outputs": [
    {
     "data": {
      "text/html": [
       "<video src=\"Results/animation.mp4\" controls  width=\"1000\"  height=\"500\">\n",
       "      Your browser does not support the <code>video</code> element.\n",
       "    </video>"
      ],
      "text/plain": [
       "<IPython.core.display.Video object>"
      ]
     },
     "execution_count": 2,
     "metadata": {},
     "output_type": "execute_result"
    }
   ],
   "source": [
    "from IPython.display import Video\n",
    "Video(\"Results/animation.mp4\", width=1000, height = 500) "
   ]
  },
  {
   "cell_type": "markdown",
   "id": "06b887c4",
   "metadata": {},
   "source": [
    "## A Look into the Housing Market:\n",
    "### Volume of Houses for Sale by Quarter from 2018 through 2023"
   ]
  },
  {
   "cell_type": "markdown",
   "id": "cf1d646e",
   "metadata": {},
   "source": [
    "<img src=\"Results/New_Listings_Over_5_Years.png\" width=700>"
   ]
  },
  {
   "cell_type": "markdown",
   "id": "a4ec76d8",
   "metadata": {},
   "source": [
    "<div class=\"alert alert-success\">The volume of houses on the market has decreased over the last two years, but the best time of year to house hunt remains consistent. The months of April-June have the highest volume of available houses, followed by July-September.</div>"
   ]
  },
  {
   "cell_type": "markdown",
   "id": "a2119400",
   "metadata": {},
   "source": [
    "## Conclusion:\n",
    "* Housing and rental prices have increased and crime rates have decreased over the last 7 years\n",
    "* There is a pattern over time showing ZIP Codes with higher ZHVIs have lower crime rates\n",
    "* The best time to start house hunting based on volume is in the second quarter of the year\n",
    "* Finally, where can we go from here?\n",
    "    * This process could be expanded across different cities to aid in research for familial moves, businesses looking at employee benefits and engagement, etc.  \n"
   ]
  },
  {
   "cell_type": "markdown",
   "id": "d02ebc89",
   "metadata": {},
   "source": [
    "<img src=\"Resources/questions.jpg\" width=400>"
   ]
  }
 ],
 "metadata": {
  "kernelspec": {
   "display_name": "Python 3 (ipykernel)",
   "language": "python",
   "name": "python3"
  },
  "language_info": {
   "codemirror_mode": {
    "name": "ipython",
    "version": 3
   },
   "file_extension": ".py",
   "mimetype": "text/x-python",
   "name": "python",
   "nbconvert_exporter": "python",
   "pygments_lexer": "ipython3",
   "version": "3.10.12"
  }
 },
 "nbformat": 4,
 "nbformat_minor": 5
}
